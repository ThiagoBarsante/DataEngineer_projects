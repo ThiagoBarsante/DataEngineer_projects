{
 "cells": [
  {
   "cell_type": "markdown",
   "metadata": {},
   "source": [
    "### Mix Panel daily execution - simulation"
   ]
  },
  {
   "cell_type": "code",
   "execution_count": 1,
   "metadata": {},
   "outputs": [
    {
     "name": "stdout",
     "output_type": "stream",
     "text": [
      "print - Process start...\n",
      " | Creation of log file ...\n",
      " | -------------------------------------- PROGRAM EXECUTION\n",
      " | ------------------------------------------------  Data pipeline start\n",
      " | Python program: mixpanel_daily_datapipeline.py\n",
      " | local/cloud parameter: local\n",
      " | Execution date: 2020-03-18\n",
      " | Data dir: ../data/\n",
      " | Log dir: ../log/\n",
      " | Json download file dir: ../dir_json_stg/\n",
      " | Log file name: ../log/20200319_114341_mixpanel_daily_datapipeline.log\n",
      " |  \n",
      "2020-03-19 11:43:41 | --------------------  Starting execution -------------------------- \n",
      "2020-03-19 11:43:41 | Download JSON file and create one dataframe for each EVENT\n",
      "2020-03-19 11:43:41 | curl https://data.mixpanel.com/api/2.0/export/     -u XXXYYY680770fe99b03e4631ba22fAPI:     -d from_date=\"2020-03-18\"     -d to_date=\"2020-03-18\"     -d event='[\"Company First Start\",\"Conversation Started\",\"Conversation Completed\",\"A/B - Onboard - Voice\",\"Subscription Confirmed\"]' >> ../dir_json_stg/20200319_114341_mixpanel_ALL_events_STG.json\n",
      "b''\n",
      "2020-03-19 11:43:41 | JSON API DOWNLOAD - OK\n",
      "2020-03-19 11:43:41 | Merge all Data frames and filter rows and columns ... \n",
      "2020-03-19 11:43:41 | Label Encode valueabonbvoi ...\n",
      "2020-03-19 11:43:41 | One Hot Encode paths ... \n",
      "2020-03-19 11:43:41 | Calculate number of hours...\n",
      "2020-03-19 11:43:41 | Processing target - number of conversations ...\n",
      "2020-03-19 11:43:41 | Processing additional feature - amount of yours...\n",
      "2020-03-19 11:43:42 | Export results to csv (Linux  storage): ../data/2020-03-18-mixpanel_daily_export.csv\n",
      "2020-03-19 11:43:42 | Cleanup process in  days...  5\n",
      "2020-03-19 11:43:42 | --------------------  Process end -------------------------- \n",
      "print - Process End\n"
     ]
    }
   ],
   "source": [
    "%run mixpanel_daily_datapipeline.py local"
   ]
  },
  {
   "cell_type": "markdown",
   "metadata": {},
   "source": [
    "#### Raw Data"
   ]
  },
  {
   "cell_type": "code",
   "execution_count": 2,
   "metadata": {},
   "outputs": [
    {
     "name": "stdout",
     "output_type": "stream",
     "text": [
      "{\"event\":\"A/B - Onboard - Voice\",\"properties\":{\"time\":1572856723,\"distinct_id\":\"F2743180-94B4-4DF0-8EB1-EE3ACB089FC8\",\"$app_build_number\":\"7.01.002\",\"$app_release\":\"7.01.002\",\"$app_version\":\"7.01.002\",\"$app_version_string\":\"7.01.002\",\"$city\":\"San Francisco\",\"$insert_id\":\"8cea96816786ede1\",\"$ios_ifa\":\"F2743180-94B4-4DF0-8EB1-EE3ACB089FC8\",\"$lib_version\":\"3.4.9\",\"$manufacturer\":\"Apple\",\"$model\":\"x86_64\",\"$os\":\"iOS\",\"$os_version\":\"11.4\",\"$radio\":\"None\",\"$region\":\"California\",\"$screen_height\":736,\"$screen_width\":414,\"$wifi\":true,\"Conversation ID\":\"vISvgqOIowcQn54xDyfIFrswYYr9Tonz\",\"Conversation Index\":0,\"Date: Day of the Month\":4,\"Date: Day of the Week\":1,\"Date: Hour of the Day\":\"8\",\"Date: Local Time\":\"2019-11-04T08:38:42\",\"Event ID\":\"Rq2Bj6wzIHpuTBjySof70A3fABsGl6Ag\",\"Value\":\"With Voice\",\"mp_country_code\":\"US\",\"mp_device_model\":\"x86_64\",\"mp_lib\":\"iphone\",\"mp_processing_time_ms\":1572885581323}}\n",
      "{\"event\":\"Conversation Started\",\"properties\":{\"time\":1572856779,\"distinct_id\":\"F2743180-94B4-4DF0-8EB1-EE3ACB089FC8\",\"$app_build_number\":\"7.01.002\",\"$app_release\":\"7.01.002\",\"$app_version\":\"7.01.002\",\"$app_version_string\":\"7.01.002\",\"$city\":\"San Francisco\",\"$insert_id\":\"63af2fae61317733\",\"$ios_ifa\":\"F2743180-94B4-4DF0-8EB1-EE3ACB089FC8\",\"$lib_version\":\"3.4.9\",\"$manufacturer\":\"Apple\",\"$model\":\"x86_64\",\"$os\":\"iOS\",\"$os_version\":\"11.4\",\"$radio\":\"None\",\"$region\":\"California\",\"$screen_height\":736,\"$screen_width\":414,\"$wifi\":true,\"Contexts\":[\"No context detected\"],\"Conversation ID\":\"vISvgqOIowcQn54xDyfIFrswYYr9Tonz\",\"Conversation Index\":0,\"Conversation Started at\":\"2019-11-04T08:39:38\",\"Date: Day of the Month\":4,\"Date: Day of the Week\":1,\"Date: Hour of the Day\":\"8\",\"Date: Local Time\":\"2019-11-04T08:39:38\",\"Event ID\":\"2HIaA0t9HfMqAcXEI28ezY8hUWhKsMko\",\"Paths Completed\":[],\"mp_country_code\":\"US\",\"mp_device_model\":\"x86_64\",\"mp_lib\":\"iphone\",\"mp_processing_time_ms\":1572885581324}}\n"
     ]
    }
   ],
   "source": [
    "!head -n 2 ../dir_json_stg/20200318_144329_mixpanel_ALL_events_STG.json"
   ]
  },
  {
   "cell_type": "markdown",
   "metadata": {},
   "source": [
    "#### Basic json info"
   ]
  },
  {
   "cell_type": "code",
   "execution_count": 3,
   "metadata": {},
   "outputs": [
    {
     "data": {
      "text/html": [
       "<div>\n",
       "<style scoped>\n",
       "    .dataframe tbody tr th:only-of-type {\n",
       "        vertical-align: middle;\n",
       "    }\n",
       "\n",
       "    .dataframe tbody tr th {\n",
       "        vertical-align: top;\n",
       "    }\n",
       "\n",
       "    .dataframe thead th {\n",
       "        text-align: right;\n",
       "    }\n",
       "</style>\n",
       "<table border=\"1\" class=\"dataframe\">\n",
       "  <thead>\n",
       "    <tr style=\"text-align: right;\">\n",
       "      <th></th>\n",
       "      <th>event</th>\n",
       "      <th>properties</th>\n",
       "    </tr>\n",
       "  </thead>\n",
       "  <tbody>\n",
       "    <tr>\n",
       "      <th>0</th>\n",
       "      <td>A/B - Onboard - Voice</td>\n",
       "      <td>{'time': 1572856723, 'distinct_id': 'F2743180-...</td>\n",
       "    </tr>\n",
       "    <tr>\n",
       "      <th>1</th>\n",
       "      <td>Conversation Started</td>\n",
       "      <td>{'time': 1572856779, 'distinct_id': 'F2743180-...</td>\n",
       "    </tr>\n",
       "    <tr>\n",
       "      <th>2</th>\n",
       "      <td>Company First Start</td>\n",
       "      <td>{'time': 1572857109, 'distinct_id': '4205F044-...</td>\n",
       "    </tr>\n",
       "  </tbody>\n",
       "</table>\n",
       "</div>"
      ],
      "text/plain": [
       "                   event                                         properties\n",
       "0  A/B - Onboard - Voice  {'time': 1572856723, 'distinct_id': 'F2743180-...\n",
       "1   Conversation Started  {'time': 1572856779, 'distinct_id': 'F2743180-...\n",
       "2    Company First Start  {'time': 1572857109, 'distinct_id': '4205F044-..."
      ]
     },
     "execution_count": 3,
     "metadata": {},
     "output_type": "execute_result"
    }
   ],
   "source": [
    "df_json = pd.read_json('../dir_json_stg/20200318_144329_mixpanel_ALL_events_STG.json', lines = True)\n",
    "df_json.head(3)"
   ]
  },
  {
   "cell_type": "markdown",
   "metadata": {},
   "source": [
    "#### Final result - Technical requirement"
   ]
  },
  {
   "cell_type": "code",
   "execution_count": 4,
   "metadata": {},
   "outputs": [
    {
     "data": {
      "text/html": [
       "<div>\n",
       "<style scoped>\n",
       "    .dataframe tbody tr th:only-of-type {\n",
       "        vertical-align: middle;\n",
       "    }\n",
       "\n",
       "    .dataframe tbody tr th {\n",
       "        vertical-align: top;\n",
       "    }\n",
       "\n",
       "    .dataframe thead th {\n",
       "        text-align: right;\n",
       "    }\n",
       "</style>\n",
       "<table border=\"1\" class=\"dataframe\">\n",
       "  <thead>\n",
       "    <tr style=\"text-align: right;\">\n",
       "      <th></th>\n",
       "      <th>distinct_id</th>\n",
       "      <th>conversationid</th>\n",
       "      <th>app_versionconsta</th>\n",
       "      <th>conversationindexconsta</th>\n",
       "      <th>conversationstartedatconsta</th>\n",
       "      <th>valueabonbvoi</th>\n",
       "      <th>datelocaltimecomfirsta</th>\n",
       "      <th>frequencysubcon</th>\n",
       "      <th>path_acceptance</th>\n",
       "      <th>path_goals</th>\n",
       "      <th>...</th>\n",
       "      <th>path_mood_after</th>\n",
       "      <th>path_mood_tracking</th>\n",
       "      <th>path_n</th>\n",
       "      <th>path_self_compassion</th>\n",
       "      <th>path_thinking_traps</th>\n",
       "      <th>path_thought_category</th>\n",
       "      <th>path_thoughts</th>\n",
       "      <th>hours_since_start</th>\n",
       "      <th>num_convo</th>\n",
       "      <th>hours_since_last</th>\n",
       "    </tr>\n",
       "  </thead>\n",
       "  <tbody>\n",
       "    <tr>\n",
       "      <th>0</th>\n",
       "      <td>4205F044-BFAF-4246-9CCD-75C10EEE30F0</td>\n",
       "      <td>3CMJew4PIId08ZAtPhJrIwW2xCsqy0Rl</td>\n",
       "      <td>7.01.002</td>\n",
       "      <td>0</td>\n",
       "      <td>2020-03-18 08:47:04</td>\n",
       "      <td>1.0</td>\n",
       "      <td>2020-03-18 08:45:08</td>\n",
       "      <td>NaN</td>\n",
       "      <td>0</td>\n",
       "      <td>1</td>\n",
       "      <td>...</td>\n",
       "      <td>1</td>\n",
       "      <td>1</td>\n",
       "      <td>0</td>\n",
       "      <td>0</td>\n",
       "      <td>1</td>\n",
       "      <td>1</td>\n",
       "      <td>0</td>\n",
       "      <td>0</td>\n",
       "      <td>1</td>\n",
       "      <td>0</td>\n",
       "    </tr>\n",
       "    <tr>\n",
       "      <th>1</th>\n",
       "      <td>518324F1-8C77-4440-A2E8-13501D8D9630</td>\n",
       "      <td>QaZ4LBIeF5ODq05a7bslY8nnQ2TMDE5e</td>\n",
       "      <td>7.01.002</td>\n",
       "      <td>0</td>\n",
       "      <td>2020-03-18 09:00:32</td>\n",
       "      <td>1.0</td>\n",
       "      <td>2020-03-18 08:57:30</td>\n",
       "      <td>NaN</td>\n",
       "      <td>0</td>\n",
       "      <td>1</td>\n",
       "      <td>...</td>\n",
       "      <td>1</td>\n",
       "      <td>1</td>\n",
       "      <td>0</td>\n",
       "      <td>0</td>\n",
       "      <td>1</td>\n",
       "      <td>1</td>\n",
       "      <td>0</td>\n",
       "      <td>0</td>\n",
       "      <td>2</td>\n",
       "      <td>0</td>\n",
       "    </tr>\n",
       "    <tr>\n",
       "      <th>2</th>\n",
       "      <td>518324F1-8C77-4440-A2E8-13501D8D9630</td>\n",
       "      <td>04dXfEWR36eHFc1h9oSgwo4UHSeY9mda</td>\n",
       "      <td>7.01.002</td>\n",
       "      <td>1</td>\n",
       "      <td>2020-03-18 12:36:47</td>\n",
       "      <td>NaN</td>\n",
       "      <td>2020-03-18 08:57:30</td>\n",
       "      <td>NaN</td>\n",
       "      <td>0</td>\n",
       "      <td>0</td>\n",
       "      <td>...</td>\n",
       "      <td>1</td>\n",
       "      <td>1</td>\n",
       "      <td>0</td>\n",
       "      <td>1</td>\n",
       "      <td>0</td>\n",
       "      <td>1</td>\n",
       "      <td>1</td>\n",
       "      <td>3</td>\n",
       "      <td>2</td>\n",
       "      <td>3</td>\n",
       "    </tr>\n",
       "  </tbody>\n",
       "</table>\n",
       "<p>3 rows × 22 columns</p>\n",
       "</div>"
      ],
      "text/plain": [
       "                            distinct_id                    conversationid  \\\n",
       "0  4205F044-BFAF-4246-9CCD-75C10EEE30F0  3CMJew4PIId08ZAtPhJrIwW2xCsqy0Rl   \n",
       "1  518324F1-8C77-4440-A2E8-13501D8D9630  QaZ4LBIeF5ODq05a7bslY8nnQ2TMDE5e   \n",
       "2  518324F1-8C77-4440-A2E8-13501D8D9630  04dXfEWR36eHFc1h9oSgwo4UHSeY9mda   \n",
       "\n",
       "  app_versionconsta  conversationindexconsta conversationstartedatconsta  \\\n",
       "0          7.01.002                        0         2020-03-18 08:47:04   \n",
       "1          7.01.002                        0         2020-03-18 09:00:32   \n",
       "2          7.01.002                        1         2020-03-18 12:36:47   \n",
       "\n",
       "   valueabonbvoi datelocaltimecomfirsta frequencysubcon  path_acceptance  \\\n",
       "0            1.0    2020-03-18 08:45:08             NaN                0   \n",
       "1            1.0    2020-03-18 08:57:30             NaN                0   \n",
       "2            NaN    2020-03-18 08:57:30             NaN                0   \n",
       "\n",
       "   path_goals  ...  path_mood_after  path_mood_tracking  path_n  \\\n",
       "0           1  ...                1                   1       0   \n",
       "1           1  ...                1                   1       0   \n",
       "2           0  ...                1                   1       0   \n",
       "\n",
       "   path_self_compassion  path_thinking_traps  path_thought_category  \\\n",
       "0                     0                    1                      1   \n",
       "1                     0                    1                      1   \n",
       "2                     1                    0                      1   \n",
       "\n",
       "   path_thoughts  hours_since_start  num_convo  hours_since_last  \n",
       "0              0                  0          1                 0  \n",
       "1              0                  0          2                 0  \n",
       "2              1                  3          2                 3  \n",
       "\n",
       "[3 rows x 22 columns]"
      ]
     },
     "execution_count": 4,
     "metadata": {},
     "output_type": "execute_result"
    }
   ],
   "source": [
    "DF_ALL_EVENTS.head(3)"
   ]
  },
  {
   "cell_type": "markdown",
   "metadata": {},
   "source": [
    "#### Export notebook to .html"
   ]
  },
  {
   "cell_type": "code",
   "execution_count": 5,
   "metadata": {},
   "outputs": [
    {
     "name": "stderr",
     "output_type": "stream",
     "text": [
      "[NbConvertApp] Converting notebook Execution_info.ipynb to html\n",
      "[NbConvertApp] Writing 281863 bytes to Execution_info.html\n"
     ]
    }
   ],
   "source": [
    "!jupyter nbconvert --to html Execution_info.ipynb"
   ]
  },
  {
   "cell_type": "markdown",
   "metadata": {},
   "source": [
    "### Config file"
   ]
  },
  {
   "cell_type": "code",
   "execution_count": 7,
   "metadata": {},
   "outputs": [
    {
     "data": {
      "text/html": [
       "<div>\n",
       "<style scoped>\n",
       "    .dataframe tbody tr th:only-of-type {\n",
       "        vertical-align: middle;\n",
       "    }\n",
       "\n",
       "    .dataframe tbody tr th {\n",
       "        vertical-align: top;\n",
       "    }\n",
       "\n",
       "    .dataframe thead th {\n",
       "        text-align: right;\n",
       "    }\n",
       "</style>\n",
       "<table border=\"1\" class=\"dataframe\">\n",
       "  <thead>\n",
       "    <tr style=\"text-align: right;\">\n",
       "      <th></th>\n",
       "      <th>CONFIG_VAR</th>\n",
       "      <th>VALUE</th>\n",
       "      <th>COMMENT</th>\n",
       "    </tr>\n",
       "  </thead>\n",
       "  <tbody>\n",
       "    <tr>\n",
       "      <th>0</th>\n",
       "      <td>INFO_CONFIG_FILE</td>\n",
       "      <td>INFO</td>\n",
       "      <td>Change function f_setup_config() to sync varia...</td>\n",
       "    </tr>\n",
       "    <tr>\n",
       "      <th>1</th>\n",
       "      <td>API_KEY</td>\n",
       "      <td>XXXYYY680770fe99b03e4631ba22fAPI:</td>\n",
       "      <td>API KEY used to download json data from Mix Panel</td>\n",
       "    </tr>\n",
       "    <tr>\n",
       "      <th>2</th>\n",
       "      <td>GCP_BUCKET</td>\n",
       "      <td>gs://datapipeline_tmp_xpto/mixpanel_daily_data...</td>\n",
       "      <td>Google Cloud Storage - gcp bucket name</td>\n",
       "    </tr>\n",
       "    <tr>\n",
       "      <th>3</th>\n",
       "      <td>AWS_S3_BUCKET</td>\n",
       "      <td>awsbigdata_xpto</td>\n",
       "      <td>Pending AWS configuration setup</td>\n",
       "    </tr>\n",
       "    <tr>\n",
       "      <th>4</th>\n",
       "      <td>DATA_DIR</td>\n",
       "      <td>../data/</td>\n",
       "      <td>Directory here the files will be downloaded</td>\n",
       "    </tr>\n",
       "    <tr>\n",
       "      <th>5</th>\n",
       "      <td>JSON_DIR</td>\n",
       "      <td>../dir_json_stg/</td>\n",
       "      <td>Temp directory to downalod the json files</td>\n",
       "    </tr>\n",
       "    <tr>\n",
       "      <th>6</th>\n",
       "      <td>EXPORT_CSV</td>\n",
       "      <td>mixpanel_daily_export.csv</td>\n",
       "      <td>Filename to export the results</td>\n",
       "    </tr>\n",
       "    <tr>\n",
       "      <th>7</th>\n",
       "      <td>CLEANUP_DAYS</td>\n",
       "      <td>5</td>\n",
       "      <td>Inform the number of days to do the cleanup (m...</td>\n",
       "    </tr>\n",
       "  </tbody>\n",
       "</table>\n",
       "</div>"
      ],
      "text/plain": [
       "         CONFIG_VAR                                              VALUE  \\\n",
       "0  INFO_CONFIG_FILE                                               INFO   \n",
       "1           API_KEY                  XXXYYY680770fe99b03e4631ba22fAPI:   \n",
       "2        GCP_BUCKET  gs://datapipeline_tmp_xpto/mixpanel_daily_data...   \n",
       "3     AWS_S3_BUCKET                                    awsbigdata_xpto   \n",
       "4          DATA_DIR                                           ../data/   \n",
       "5          JSON_DIR                                   ../dir_json_stg/   \n",
       "6        EXPORT_CSV                          mixpanel_daily_export.csv   \n",
       "7      CLEANUP_DAYS                                                  5   \n",
       "\n",
       "                                             COMMENT  \n",
       "0  Change function f_setup_config() to sync varia...  \n",
       "1  API KEY used to download json data from Mix Panel  \n",
       "2             Google Cloud Storage - gcp bucket name  \n",
       "3                    Pending AWS configuration setup  \n",
       "4        Directory here the files will be downloaded  \n",
       "5          Temp directory to downalod the json files  \n",
       "6                     Filename to export the results  \n",
       "7  Inform the number of days to do the cleanup (m...  "
      ]
     },
     "execution_count": 7,
     "metadata": {},
     "output_type": "execute_result"
    }
   ],
   "source": [
    "df_config = pd.read_csv('./mixpanel_daily_datapipeline.cfg', sep='|')\n",
    "df_config"
   ]
  },
  {
   "cell_type": "code",
   "execution_count": null,
   "metadata": {},
   "outputs": [],
   "source": []
  }
 ],
 "metadata": {
  "kernelspec": {
   "display_name": "Python 3",
   "language": "python",
   "name": "python3"
  },
  "language_info": {
   "codemirror_mode": {
    "name": "ipython",
    "version": 3
   },
   "file_extension": ".py",
   "mimetype": "text/x-python",
   "name": "python",
   "nbconvert_exporter": "python",
   "pygments_lexer": "ipython3",
   "version": "3.7.3"
  }
 },
 "nbformat": 4,
 "nbformat_minor": 2
}
